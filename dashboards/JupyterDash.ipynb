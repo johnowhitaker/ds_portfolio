{
  "nbformat": 4,
  "nbformat_minor": 0,
  "metadata": {
    "colab": {
      "name": "JupyterDash.ipynb",
      "provenance": [],
      "collapsed_sections": []
    },
    "kernelspec": {
      "name": "python3",
      "display_name": "Python 3"
    }
  },
  "cells": [
    {
      "cell_type": "markdown",
      "metadata": {
        "id": "VrW1fsTbHtSy",
        "colab_type": "text"
      },
      "source": [
        "<img src=https://www.pngkit.com/png/full/861-8618685_numfocus-plotly-dash-logo.png alt=\"logo\" width=\"400\"/>\n",
        "\n",
        "# Introduction\n",
        "\n",
        "Dash is a library for creating interactive dashboards in python. The [documentation](https://dash.plotly.com/) is excellent, but examples can be a little verbose and hard to read. It is also designed to run as a server and to make the dashboards available via a web browser - this can be a little confusing at first.\n",
        "\n",
        "To make life easier, we can use the newly-released jupyter-dash to see the figures within our notebook, and to slowly build up the complexity of our demos.\n",
        "\n",
        "You can run this using Google Colab, but if you'd like to follow along make sure you install the necessary libraries with \n",
        "`conda install -c conda-forge -c plotly jupyter-dash` or `pip install jupyter-dash`.\n",
        "\n",
        "To keep things moving swiftly, we'll use the data from Tuesday's deep learning demo. Skim past the setup and data sections and let's get plotting!"
      ]
    },
    {
      "cell_type": "markdown",
      "metadata": {
        "id": "CGU0dd3izIdZ",
        "colab_type": "text"
      },
      "source": [
        "# Setup"
      ]
    },
    {
      "cell_type": "code",
      "metadata": {
        "id": "FjWSL95XTnEy",
        "colab_type": "code",
        "colab": {}
      },
      "source": [
        "# Install the library we'll be using\n",
        "!pip install jupyter-dash -q"
      ],
      "execution_count": null,
      "outputs": []
    },
    {
      "cell_type": "markdown",
      "metadata": {
        "id": "pI40-jwmzK9X",
        "colab_type": "text"
      },
      "source": [
        "# Getting the data\n",
        "\n",
        "For this demonstration we'll load a public dataset from a study on Diabetes from the National Institute of Diabetes and Digestive and Kidney Diseases. You can read more about the data (including cariable descriptions and citations) [here](https://raw.githubusercontent.com/jbrownlee/Datasets/master/pima-indians-diabetes.names). "
      ]
    },
    {
      "cell_type": "code",
      "metadata": {
        "id": "vS3UggcZUeUz",
        "colab_type": "code",
        "colab": {}
      },
      "source": [
        "import pandas as pd"
      ],
      "execution_count": null,
      "outputs": []
    },
    {
      "cell_type": "code",
      "metadata": {
        "id": "oOcdQO0ZVLnS",
        "colab_type": "code",
        "colab": {
          "base_uri": "https://localhost:8080/",
          "height": 221
        },
        "outputId": "6ab95837-7de2-40cb-dab7-498c2f692a22"
      },
      "source": [
        "df = pd.read_csv('https://raw.githubusercontent.com/surabhim/Diabetes/master/Diabetes.csv', skiprows=9, \n",
        "                 names=['Pregnancies', 'Glucose', 'BloodPressure', 'SkinThickness', 'Insulin',\n",
        "                 'BMI', 'DiabetesPedigreeFunction', 'Age', 'Outcome']) # or read data/diabetes.csv from Tuesday\n",
        "print(df.shape)\n",
        "df.head()"
      ],
      "execution_count": null,
      "outputs": [
        {
          "output_type": "stream",
          "text": [
            "(768, 9)\n"
          ],
          "name": "stdout"
        },
        {
          "output_type": "execute_result",
          "data": {
            "text/html": [
              "<div>\n",
              "<style scoped>\n",
              "    .dataframe tbody tr th:only-of-type {\n",
              "        vertical-align: middle;\n",
              "    }\n",
              "\n",
              "    .dataframe tbody tr th {\n",
              "        vertical-align: top;\n",
              "    }\n",
              "\n",
              "    .dataframe thead th {\n",
              "        text-align: right;\n",
              "    }\n",
              "</style>\n",
              "<table border=\"1\" class=\"dataframe\">\n",
              "  <thead>\n",
              "    <tr style=\"text-align: right;\">\n",
              "      <th></th>\n",
              "      <th>Pregnancies</th>\n",
              "      <th>Glucose</th>\n",
              "      <th>BloodPressure</th>\n",
              "      <th>SkinThickness</th>\n",
              "      <th>Insulin</th>\n",
              "      <th>BMI</th>\n",
              "      <th>DiabetesPedigreeFunction</th>\n",
              "      <th>Age</th>\n",
              "      <th>Outcome</th>\n",
              "    </tr>\n",
              "  </thead>\n",
              "  <tbody>\n",
              "    <tr>\n",
              "      <th>0</th>\n",
              "      <td>6</td>\n",
              "      <td>148</td>\n",
              "      <td>72</td>\n",
              "      <td>35</td>\n",
              "      <td>0</td>\n",
              "      <td>33.6</td>\n",
              "      <td>0.627</td>\n",
              "      <td>50</td>\n",
              "      <td>1</td>\n",
              "    </tr>\n",
              "    <tr>\n",
              "      <th>1</th>\n",
              "      <td>1</td>\n",
              "      <td>85</td>\n",
              "      <td>66</td>\n",
              "      <td>29</td>\n",
              "      <td>0</td>\n",
              "      <td>26.6</td>\n",
              "      <td>0.351</td>\n",
              "      <td>31</td>\n",
              "      <td>0</td>\n",
              "    </tr>\n",
              "    <tr>\n",
              "      <th>2</th>\n",
              "      <td>8</td>\n",
              "      <td>183</td>\n",
              "      <td>64</td>\n",
              "      <td>0</td>\n",
              "      <td>0</td>\n",
              "      <td>23.3</td>\n",
              "      <td>0.672</td>\n",
              "      <td>32</td>\n",
              "      <td>1</td>\n",
              "    </tr>\n",
              "    <tr>\n",
              "      <th>3</th>\n",
              "      <td>1</td>\n",
              "      <td>89</td>\n",
              "      <td>66</td>\n",
              "      <td>23</td>\n",
              "      <td>94</td>\n",
              "      <td>28.1</td>\n",
              "      <td>0.167</td>\n",
              "      <td>21</td>\n",
              "      <td>0</td>\n",
              "    </tr>\n",
              "    <tr>\n",
              "      <th>4</th>\n",
              "      <td>0</td>\n",
              "      <td>137</td>\n",
              "      <td>40</td>\n",
              "      <td>35</td>\n",
              "      <td>168</td>\n",
              "      <td>43.1</td>\n",
              "      <td>2.288</td>\n",
              "      <td>33</td>\n",
              "      <td>1</td>\n",
              "    </tr>\n",
              "  </tbody>\n",
              "</table>\n",
              "</div>"
            ],
            "text/plain": [
              "   Pregnancies  Glucose  BloodPressure  ...  DiabetesPedigreeFunction  Age  Outcome\n",
              "0            6      148             72  ...                     0.627   50        1\n",
              "1            1       85             66  ...                     0.351   31        0\n",
              "2            8      183             64  ...                     0.672   32        1\n",
              "3            1       89             66  ...                     0.167   21        0\n",
              "4            0      137             40  ...                     2.288   33        1\n",
              "\n",
              "[5 rows x 9 columns]"
            ]
          },
          "metadata": {
            "tags": []
          },
          "execution_count": 3
        }
      ]
    },
    {
      "cell_type": "markdown",
      "metadata": {
        "id": "qeqA1GCPFAvK",
        "colab_type": "text"
      },
      "source": [
        "For some background, the columns definitions (from the original file):\n",
        "1. Number of times pregnant\n",
        "2. Plasma glucose concentration a 2 hours in an oral glucose tolerance test\n",
        "3. Diastolic blood pressure (mm Hg)\n",
        "4. Triceps skin fold thickness (mm)\n",
        "5. 2-Hour serum insulin (mu U/ml)\n",
        "6. Body mass index (weight in kg/(height in m)^2)\n",
        "7. Diabetes pedigree function\n",
        "8. Age (years)\n",
        "9. Class variable (0 or 1)\n",
        "\n",
        "Now, we could start exploring and plotting with seaborn or matplotlib, but that's not our goal today - let's see if we can make some interactive visuals!"
      ]
    },
    {
      "cell_type": "code",
      "metadata": {
        "id": "f076Kc-oweHb",
        "colab_type": "code",
        "colab": {
          "base_uri": "https://localhost:8080/",
          "height": 296
        },
        "outputId": "a1c4b7cf-aa3f-4ebc-83e1-11ff6ab79d89"
      },
      "source": [
        "# Look at this - it doesn't even move!\n",
        "df.plot(kind='scatter', x='Glucose', y='BloodPressure')"
      ],
      "execution_count": null,
      "outputs": [
        {
          "output_type": "execute_result",
          "data": {
            "text/plain": [
              "<matplotlib.axes._subplots.AxesSubplot at 0x7ff3d5740fd0>"
            ]
          },
          "metadata": {
            "tags": []
          },
          "execution_count": 4
        },
        {
          "output_type": "display_data",
          "data": {
            "image/png": "[encoded data removed]",
            "text/plain": [
              "<Figure size 432x288 with 1 Axes>"
            ]
          },
          "metadata": {
            "tags": [],
            "needs_background": "light"
          }
        }
      ]
    },
    {
      "cell_type": "markdown",
      "metadata": {
        "id": "2TOSs1qwzXgU",
        "colab_type": "text"
      },
      "source": [
        "# Our first figure\n",
        "\n",
        "Let's try our first figure:"
      ]
    },
    {
      "cell_type": "code",
      "metadata": {
        "id": "5x2cdiRAsKHF",
        "colab_type": "code",
        "colab": {}
      },
      "source": [
        "# Import the necessary libraries:\n",
        "import plotly.express as px\n",
        "from jupyter_dash import JupyterDash\n",
        "import dash_core_components as dcc\n",
        "import dash_html_components as html\n",
        "from dash.dependencies import Input, Output, State\n",
        "\n",
        "# If on Colab et al, run:\n",
        "JupyterDash.infer_jupyter_proxy_config()"
      ],
      "execution_count": null,
      "outputs": []
    },
    {
      "cell_type": "code",
      "metadata": {
        "id": "i5O83JaOsKFQ",
        "colab_type": "code",
        "colab": {
          "base_uri": "https://localhost:8080/",
          "height": 671
        },
        "outputId": "fc7f7a0d-ce67-42bf-ae52-9a9d075d97d9"
      },
      "source": [
        "# Build the App\n",
        "app = JupyterDash(__name__)\n",
        "app.layout = html.Div([\n",
        "    html.H1(\"JupyterDash Demo 1 - Use HTML components!\"),\n",
        "    html.H2(\"Subheading Demo 1 - now with style!\", style={'color':'green'}),\n",
        "    dcc.Graph(id='graph1',\n",
        "      figure=px.scatter(\n",
        "          df, # Specify the dataframe\n",
        "          x=\"BloodPressure\", # Column for X axis...\n",
        "          y=\"Glucose\",\n",
        "          title=\"BP vs Glucose\",\n",
        "          color='BMI' # We can add color (here showing BMI) or size to the points, as wqell as all sorts of other styling options\n",
        "      )\n",
        "    ),\n",
        "])\n",
        "\n",
        "# Run app and display result inline in the notebook\n",
        "app.run_server(mode='inline')"
      ],
      "execution_count": 8,
      "outputs": [
        {
          "output_type": "display_data",
          "data": {
            "application/javascript": [
              "(async (port, path, width, height, cache, element) => {\n",
              "    if (!google.colab.kernel.accessAllowed && !cache) {\n",
              "      return;\n",
              "    }\n",
              "    element.appendChild(document.createTextNode(''));\n",
              "    const url = await google.colab.kernel.proxyPort(port, {cache});\n",
              "    const iframe = document.createElement('iframe');\n",
              "    iframe.src = url + path;\n",
              "    iframe.height = height;\n",
              "    iframe.width = width;\n",
              "    iframe.style.border = 0;\n",
              "    element.appendChild(iframe);\n",
              "  })(8050, \"/\", \"100%\", 650, false, window.element)"
            ],
            "text/plain": [
              "<IPython.core.display.Javascript object>"
            ]
          },
          "metadata": {
            "tags": []
          }
        }
      ]
    },
    {
      "cell_type": "markdown",
      "metadata": {
        "id": "Md2PFn-Ezgtr",
        "colab_type": "text"
      },
      "source": [
        "Pretty neat, right? Try zooming in, or hovering over specific data points.\n",
        "But this is still a lot more trouble than seaborn/matplotlib/... Why exactly is this so great?"
      ]
    },
    {
      "cell_type": "code",
      "metadata": {
        "id": "9kTZXUlmFtQu",
        "colab_type": "code",
        "colab": {
          "base_uri": "https://localhost:8080/",
          "height": 51
        },
        "outputId": "1b29b278-a60b-48fa-eac8-89a90a9c4c6f"
      },
      "source": [
        "app.run_server(mode='external') # See it as it's own separate webpage!"
      ],
      "execution_count": 9,
      "outputs": [
        {
          "output_type": "stream",
          "text": [
            "Dash app running on:\n"
          ],
          "name": "stdout"
        },
        {
          "output_type": "display_data",
          "data": {
            "application/javascript": [
              "(async (port, path, text, element) => {\n",
              "    if (!google.colab.kernel.accessAllowed) {\n",
              "      return;\n",
              "    }\n",
              "    element.appendChild(document.createTextNode(''));\n",
              "    const url = await google.colab.kernel.proxyPort(port);\n",
              "    const anchor = document.createElement('a');\n",
              "    anchor.href = url + path;\n",
              "    anchor.target = '_blank';\n",
              "    anchor.setAttribute('data-href', url + path);\n",
              "    anchor.textContent = text;\n",
              "    element.appendChild(anchor);\n",
              "  })(8050, \"/\", \"http://127.0.0.1:8050/\", window.element)"
            ],
            "text/plain": [
              "<IPython.core.display.Javascript object>"
            ]
          },
          "metadata": {
            "tags": []
          }
        }
      ]
    },
    {
      "cell_type": "markdown",
      "metadata": {
        "id": "TJvrN1SNGGrK",
        "colab_type": "text"
      },
      "source": [
        "Dash is designed to create interactive dashboards, not just to render static plots and display them in Jupyter. Behing the scenes it uses Flask, a web application framework. This means we can (quite) easily get our dash apps online to share with others! More on this later.\n",
        "\n",
        "We can also use HTML components to arrange and style our dashboards. Notice the heading - html.H1 should ring a bell for anyone who has done web dev."
      ]
    },
    {
      "cell_type": "markdown",
      "metadata": {
        "id": "aUrh4KWQzoid",
        "colab_type": "text"
      },
      "source": [
        "# Make it interactive!\n",
        "\n",
        "We keep saying 'interactive'... is this just a fancy way of selling the fact that we can now zoom in to our plots? \n",
        "\n",
        "Not quite :) Dash uses something called 'Callbacks' to let different parts of our dashboard talk to eachother, enabling a lot more interaction."
      ]
    },
    {
      "cell_type": "code",
      "metadata": {
        "id": "9Dv1C_ZCzoIo",
        "colab_type": "code",
        "colab": {
          "base_uri": "https://localhost:8080/",
          "height": 671
        },
        "outputId": "74ef384c-f0a3-4bfc-9902-1081a5ec1057"
      },
      "source": [
        "# Build App\n",
        "app = JupyterDash(__name__)\n",
        "app.layout = html.Div([\n",
        "    html.H1(\"JupyterDash Demo 2 - Callbacks and interactivity\"),\n",
        "    dcc.Graph(id='graph1'), # We'll update the figure in the callback. The id is used to modify this component.\n",
        "    html.Label([\n",
        "        \"X Axis\",\n",
        "        dcc.Dropdown(\n",
        "            id='x-axis-dropdown', clearable=False,\n",
        "            value='BloodPressure', options=[\n",
        "                {'label': c, 'value': c}\n",
        "                for c in df.columns\n",
        "            ])\n",
        "    ]),\n",
        "])\n",
        "\n",
        "# Callbacks!\n",
        "# Define callback to update graph\n",
        "@app.callback(\n",
        "    Output('graph1', 'figure'), # What are we updating?\n",
        "    [Input(\"x-axis-dropdown\", \"value\")] # What triggers an update?\n",
        ")\n",
        "def update_figure(chosen_x): \n",
        "    figure=px.scatter(\n",
        "          df, # Specify the dataframe\n",
        "          x=chosen_x, # The argument is determined by the input(s) - the \"value\" of the dropdown will be passes as chosen_x\n",
        "          y=\"BMI\",\n",
        "          title=chosen_x + \" vs BMI\"\n",
        "      )\n",
        "    return figure\n",
        "\n",
        "# Run app and display result inline in the notebook\n",
        "app.run_server(mode='inline')"
      ],
      "execution_count": 10,
      "outputs": [
        {
          "output_type": "display_data",
          "data": {
            "application/javascript": [
              "(async (port, path, width, height, cache, element) => {\n",
              "    if (!google.colab.kernel.accessAllowed && !cache) {\n",
              "      return;\n",
              "    }\n",
              "    element.appendChild(document.createTextNode(''));\n",
              "    const url = await google.colab.kernel.proxyPort(port, {cache});\n",
              "    const iframe = document.createElement('iframe');\n",
              "    iframe.src = url + path;\n",
              "    iframe.height = height;\n",
              "    iframe.width = width;\n",
              "    iframe.style.border = 0;\n",
              "    element.appendChild(iframe);\n",
              "  })(8050, \"/\", \"100%\", 650, false, window.element)"
            ],
            "text/plain": [
              "<IPython.core.display.Javascript object>"
            ]
          },
          "metadata": {
            "tags": []
          }
        }
      ]
    },
    {
      "cell_type": "markdown",
      "metadata": {
        "id": "8FCfVrzEOkEK",
        "colab_type": "text"
      },
      "source": [
        "Now we're interactive! What's going on here?\n",
        "\n",
        "The function `update_figure(chosen_x)` creates a figure with the chosen variable as the X axis and BMI on the y axis. We'd like to change the X axis with a dropdown (a standard html component)\n",
        "\n",
        "Rather than having a loop continually checking the dropdown value, we trigger a callback when it's value changes.\n",
        "\n",
        "When the callback is triggered by one of it's inputs changing, it modified the output - in this case, the figure attribute of our graph component. We can use this to modify our figures in response to user input, or to react to actions like hover, select etc in our plot."
      ]
    },
    {
      "cell_type": "markdown",
      "metadata": {
        "id": "bdKPMBrW0Px5",
        "colab_type": "text"
      },
      "source": [
        "# Callbacks 2: Getting Fancy with States\n",
        "\n",
        "We can add multiple callbacks, and each can take one or more inputs. Callbacks can also receive 'states' to access any additional info they may need from other components. Take a look at the docs - pretty much anything can be used to trigger a callback!\n",
        "\n",
        "This example is a modified version of the previous one, where we add a second input to our callback to modify the y axis. We also try out a State, and see how it's different from an input."
      ]
    },
    {
      "cell_type": "code",
      "metadata": {
        "id": "xAB4CU55I6Z6",
        "colab_type": "code",
        "colab": {
          "base_uri": "https://localhost:8080/",
          "height": 671
        },
        "outputId": "d4a29d89-8da8-4cda-e779-b18ec22792b6"
      },
      "source": [
        "# Build App\n",
        "app = JupyterDash(__name__)\n",
        "app.layout = html.Div([\n",
        "    html.H1(\"JupyterDash Demo 2.1 - More Callbacks\"),\n",
        "    dcc.Graph(id='graph1'), # We'll update the figure in the callback. The id is used to modify this component.\n",
        "    \n",
        "    # Options for specifying ...\n",
        "    html.Label([\n",
        "        \"X Axis\",\n",
        "        dcc.Dropdown(\n",
        "            id='x-axis-dropdown', clearable=False,\n",
        "            value='BloodPressure', options=[\n",
        "                {'label': c, 'value': c}\n",
        "                for c in df.columns\n",
        "            ])\n",
        "    ]),\n",
        "    html.Label([\n",
        "        \"Y Axis\",\n",
        "        dcc.Dropdown(\n",
        "            id='y-axis-dropdown', clearable=False,\n",
        "            value='Glucose', options=[\n",
        "                {'label': c, 'value': c}\n",
        "                for c in df.columns\n",
        "            ])\n",
        "    ]),\n",
        "    html.Label([\n",
        "        \"Colour By\",\n",
        "        dcc.Dropdown(\n",
        "            id='color-dropdown', clearable=False,\n",
        "            value='BMI', options=[\n",
        "                {'label': c, 'value': c}\n",
        "                for c in df.columns\n",
        "            ])\n",
        "    ]),\n",
        "])\n",
        "\n",
        "# Callbacks\n",
        "\n",
        "# Define callback to update graph\n",
        "@app.callback(\n",
        "    Output('graph1', 'figure'), # What are we updating?\n",
        "    [Input(\"x-axis-dropdown\", \"value\"), Input(\"y-axis-dropdown\", \"value\")], # What triggers an update?\n",
        "    [State('color-dropdown', 'value')] # We could use an input instead. How does this affect behaviour?\n",
        ")\n",
        "def update_figure(chosen_x, chosen_y, color_by): \n",
        "    figure=px.scatter(\n",
        "          df, # Specify the dataframe\n",
        "          x=chosen_x, # The argument is determined by the input(s) - the \"value\" of the dropdown will be passes as chosen_x\n",
        "          y=chosen_y,\n",
        "          title=chosen_x + \" vs \" + chosen_y,\n",
        "          color=color_by\n",
        "      )\n",
        "    return figure\n",
        "\n",
        "# Run app and display result inline in the notebook\n",
        "app.run_server(mode='inline')"
      ],
      "execution_count": 11,
      "outputs": [
        {
          "output_type": "display_data",
          "data": {
            "application/javascript": [
              "(async (port, path, width, height, cache, element) => {\n",
              "    if (!google.colab.kernel.accessAllowed && !cache) {\n",
              "      return;\n",
              "    }\n",
              "    element.appendChild(document.createTextNode(''));\n",
              "    const url = await google.colab.kernel.proxyPort(port, {cache});\n",
              "    const iframe = document.createElement('iframe');\n",
              "    iframe.src = url + path;\n",
              "    iframe.height = height;\n",
              "    iframe.width = width;\n",
              "    iframe.style.border = 0;\n",
              "    element.appendChild(iframe);\n",
              "  })(8050, \"/\", \"100%\", 650, false, window.element)"
            ],
            "text/plain": [
              "<IPython.core.display.Javascript object>"
            ]
          },
          "metadata": {
            "tags": []
          }
        }
      ]
    },
    {
      "cell_type": "markdown",
      "metadata": {
        "id": "mIGY7RnC0QZR",
        "colab_type": "text"
      },
      "source": [
        "# Multiple figures\n",
        "There is no reason we can't make multiple figures and arrange them however we like. Here's an example:"
      ]
    },
    {
      "cell_type": "code",
      "metadata": {
        "id": "1bemXvq10T8e",
        "colab_type": "code",
        "colab": {
          "base_uri": "https://localhost:8080/",
          "height": 671
        },
        "outputId": "27a07b1a-2cf9-41a4-afe0-2a9da7ed0d9c"
      },
      "source": [
        "# Build App\n",
        "app = JupyterDash(__name__, external_stylesheets=['https://codepen.io/chriddyp/pen/bWLwgP.css'])\n",
        "app.layout = html.Div([\n",
        "    html.H1(\"JupyterDash Demo 3 - Multiple Figures!\"),\n",
        "    html.Div(className=\"row\", style={ 'width':'100%'}, children=[\n",
        "        html.Div(\n",
        "            dcc.Graph(id='graph2',\n",
        "              figure=px.scatter(\n",
        "                  df, # Specify the dataframe\n",
        "                  x=\"SkinThickness\", \n",
        "                  y=\"Insulin\",\n",
        "                  title=\"SkinThickness vs Insulin\"\n",
        "              ),\n",
        "            ), style={'display': 'inline-block', 'width':'49%'} # We can use HTML/CSS styling)\n",
        "        ),\n",
        "        html.Div(\n",
        "            dcc.Graph(id='graph3',\n",
        "              figure=px.scatter(\n",
        "                  df, # Specify the dataframe\n",
        "                  x=\"SkinThickness\", \n",
        "                  y=\"Glucose\",\n",
        "                  title=\"SkinThickness vs glucose\"\n",
        "              ),\n",
        "            ), style={'display': 'inline-block', 'width':'49%'} # We can use HTML/CSS styling)\n",
        "        ),\n",
        "    ]),\n",
        "    \n",
        "    dcc.Graph(id='graph1',\n",
        "      figure=px.box(\n",
        "          df, # Specify the dataframe\n",
        "          x=\"Outcome\", \n",
        "          y=\"SkinThickness\",\n",
        "          title=\"Outcomes...\"\n",
        "      )\n",
        "    ),\n",
        "])\n",
        "\n",
        "# Run app and display result inline in the notebook\n",
        "app.run_server(mode='inline')"
      ],
      "execution_count": 12,
      "outputs": [
        {
          "output_type": "display_data",
          "data": {
            "application/javascript": [
              "(async (port, path, width, height, cache, element) => {\n",
              "    if (!google.colab.kernel.accessAllowed && !cache) {\n",
              "      return;\n",
              "    }\n",
              "    element.appendChild(document.createTextNode(''));\n",
              "    const url = await google.colab.kernel.proxyPort(port, {cache});\n",
              "    const iframe = document.createElement('iframe');\n",
              "    iframe.src = url + path;\n",
              "    iframe.height = height;\n",
              "    iframe.width = width;\n",
              "    iframe.style.border = 0;\n",
              "    element.appendChild(iframe);\n",
              "  })(8050, \"/\", \"100%\", 650, false, window.element)"
            ],
            "text/plain": [
              "<IPython.core.display.Javascript object>"
            ]
          },
          "metadata": {
            "tags": []
          }
        }
      ]
    },
    {
      "cell_type": "markdown",
      "metadata": {
        "id": "1HaelhML1iNg",
        "colab_type": "text"
      },
      "source": [
        "# Keeping Things Organised\n",
        "\n",
        "Dash is very powerful, and it's easy to get started by copying code. However, as you start to add complexity, things can quickly get messy. Even our simple three-graph example above, at ~40 lines of code, is starting to look intimidating. Imagine what it'll look like when we add a few callbacks and some different style options for the user to play with!\n",
        "\n",
        "If you're building anything serious in dash, do yourself a favour and \n",
        "- Comment your code well\n",
        "- Spend time refactoring and making it neat\n",
        "- Give everything clear names\n",
        "- Create reuseable components where possible\n",
        "- Keep the layout from getting cluttered - move as much as possible elsewhere.\n",
        "\n",
        "Let's see a version of the above with a bit more organisation. Notice I'm starting from scratch here - you can re-start the notebook and run this on it's own. You'll see why very soon."
      ]
    },
    {
      "cell_type": "code",
      "metadata": {
        "id": "vb5ovmTh1W-I",
        "colab_type": "code",
        "colab": {
          "base_uri": "https://localhost:8080/",
          "height": 51
        },
        "outputId": "d744561b-d4c2-4274-a79d-4b33fa874cb5"
      },
      "source": [
        "import plotly.express as px\n",
        "from jupyter_dash import JupyterDash\n",
        "import dash_core_components as dcc\n",
        "import dash_html_components as html\n",
        "from dash.dependencies import Input, Output\n",
        "import pandas as pd\n",
        "\n",
        "# LOAD THE DATA\n",
        "df = pd.read_csv('https://raw.githubusercontent.com/surabhim/Diabetes/master/Diabetes.csv', skiprows=9, \n",
        "                 names=['Pregnancies', 'Glucose', 'BloodPressure', 'SkinThickness', 'Insulin',\n",
        "                 'BMI', 'DiabetesPedigreeFunction', 'Age', 'Outcome'])\n",
        "# Data process\n",
        "\n",
        "# DEFINE COMPONENTS\n",
        "\n",
        "def scatterplot(id, x, y):\n",
        "  return dcc.Graph(id=id,\n",
        "              figure=px.scatter(\n",
        "                  df,\n",
        "                  x=x, \n",
        "                  y=y,\n",
        "                  title=f\"{x} vs {y}\"\n",
        "              ))\n",
        "\n",
        "def boxplot(id, y):\n",
        "  return dcc.Graph(id='graph1',\n",
        "      figure=px.box(\n",
        "          df, # Specify the dataframe\n",
        "          x=\"Outcome\", \n",
        "          y=y,\n",
        "          title=f\"Distributions of {y} for both outcomes\"\n",
        "      )\n",
        "    )\n",
        "\n",
        "# SPECIFY LAYOUT\n",
        "\n",
        "app = JupyterDash(__name__, external_stylesheets=['https://codepen.io/chriddyp/pen/bWLwgP.css'])\n",
        "app.layout = html.Div([\n",
        "    # Heading\n",
        "    html.H1(\"JupyterDash Demo 3 - Multiple Figures!\"),\n",
        "\n",
        "    # First Row\n",
        "    html.Div(className=\"row\", style={ 'width':'100%'}, children=[\n",
        "        # Two scatter plots\n",
        "        html.Div(scatterplot('scatter_1', 'Glucose', 'BMI'), style={'display': 'inline-block', 'width':'33%'}),\n",
        "        html.Div(scatterplot('scatter_2', 'SkinThickness', 'BMI'), style={'display': 'inline-block', 'width':'33%'}),\n",
        "        # Box plot\n",
        "        html.Div(boxplot('boxplot', 'BMI'), style={'display': 'inline-block', 'width':'33%'})\n",
        "    ]),\n",
        "])\n",
        "\n",
        "# ADD CALLBACKS IF NEEDED\n",
        "# ...\n",
        "\n",
        "# RUN APP\n",
        "app.run_server(mode='external')"
      ],
      "execution_count": 13,
      "outputs": [
        {
          "output_type": "stream",
          "text": [
            "Dash app running on:\n"
          ],
          "name": "stdout"
        },
        {
          "output_type": "display_data",
          "data": {
            "application/javascript": [
              "(async (port, path, text, element) => {\n",
              "    if (!google.colab.kernel.accessAllowed) {\n",
              "      return;\n",
              "    }\n",
              "    element.appendChild(document.createTextNode(''));\n",
              "    const url = await google.colab.kernel.proxyPort(port);\n",
              "    const anchor = document.createElement('a');\n",
              "    anchor.href = url + path;\n",
              "    anchor.target = '_blank';\n",
              "    anchor.setAttribute('data-href', url + path);\n",
              "    anchor.textContent = text;\n",
              "    element.appendChild(anchor);\n",
              "  })(8050, \"/\", \"http://127.0.0.1:8050/\", window.element)"
            ],
            "text/plain": [
              "<IPython.core.display.Javascript object>"
            ]
          },
          "metadata": {
            "tags": []
          }
        }
      ]
    },
    {
      "cell_type": "markdown",
      "metadata": {
        "id": "cO_7QwP_QEHC",
        "colab_type": "text"
      },
      "source": [
        "# Breaking out of Jupyter\n",
        "\n",
        "We can copy the code above into it's own file, replacing JupyterDash with standard dash. This can then be run locally for testing, or deployed to a hosting service with a little extra effort. "
      ]
    },
    {
      "cell_type": "code",
      "metadata": {
        "id": "iNZB3Eil8hy7",
        "colab_type": "code",
        "colab": {}
      },
      "source": [
        "# Demo Time!"
      ],
      "execution_count": 14,
      "outputs": []
    },
    {
      "cell_type": "markdown",
      "metadata": {
        "id": "CQd_gzKRQms4",
        "colab_type": "text"
      },
      "source": [
        "# Exercises:\n",
        "\n",
        "- Create some interactive plots with a different dataset\n",
        "- Check out the dash app gallery \n",
        "- Write 'Dash exists' on a note to yourself, to reference next time you are working on a personal project that could use some pretty plots :)"
      ]
    },
    {
      "cell_type": "code",
      "metadata": {
        "id": "tMkCKyfwQmFn",
        "colab_type": "code",
        "colab": {}
      },
      "source": [
        ""
      ],
      "execution_count": null,
      "outputs": []
    }
  ]
}